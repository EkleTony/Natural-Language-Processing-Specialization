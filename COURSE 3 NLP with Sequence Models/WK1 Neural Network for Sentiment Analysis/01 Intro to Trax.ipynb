{
 "cells": [
  {
   "cell_type": "markdown",
   "metadata": {},
   "source": [
    "# Trax : Ungraded Lecture Notebook\n",
    "\n",
    "In this notebook you'll get to know about the Trax framework and learn about some of its basic building blocks.\n",
    "\n"
   ]
  },
  {
   "cell_type": "markdown",
   "metadata": {},
   "source": [
    "## Background\n",
    "\n",
    "### Why Trax and not TensorFlow or PyTorch?\n",
    "\n",
    "TensorFlow and PyTorch are both extensive frameworks that can do almost anything in deep learning. They offer a lot of flexibility, but that often means verbosity of syntax and extra time to code.\n",
    "\n",
    "Trax is much more concise. It runs on a TensorFlow backend but allows you to train models with 1 line commands. Trax also runs end to end, allowing you to get data, model and train all with a single terse statements. This means you can focus on learning, instead of spending hours on the idiosyncrasies of big framework implementation.\n",
    "\n",
    "### Why not Keras then?\n",
    "\n",
    "Keras is now part of Tensorflow itself from 2.0 onwards. Also, trax is good for implementing new state of the art algorithms like Transformers, Reformers, BERT because it is actively maintained by Google Brain Team for advanced deep learning tasks. It runs smoothly on CPUs,GPUs and TPUs as well with comparatively lesser modifications in code.\n",
    "\n",
    "### How to Code in Trax\n",
    "Building models in Trax relies on 2 key concepts:- **layers** and **combinators**.\n",
    "Trax layers are simple objects that process data and perform computations. They can be chained together into composite layers using Trax combinators, allowing you to build layers and models of any complexity.\n",
    "\n",
    "### Trax, JAX, TensorFlow and Tensor2Tensor\n",
    "\n",
    "You already know that Trax uses Tensorflow as a backend, but it also uses the JAX library to speed up computation too. You can view JAX as an enhanced and optimized version of numpy. \n",
    "\n",
    "**Watch out for assignments which import `import trax.fastmath.numpy as np`. If you see this line, remember that when calling `np` you are really calling Trax’s version of numpy that is compatible with JAX.**\n",
    "\n",
    "As a result of this, where you used to encounter the type `numpy.ndarray` now you will find the type `jax.interpreters.xla.DeviceArray`.\n",
    "\n",
    "Tensor2Tensor is another name you might have heard. It started as an end to end solution much like how Trax is designed, but it grew unwieldy and complicated. So you can view Trax as the new improved version that operates much faster and simpler.\n",
    "\n",
    "### Resources\n",
    "\n",
    "- Trax source code can be found on Github: [Trax](https://github.com/google/trax)\n",
    "- JAX library: [JAX](https://jax.readthedocs.io/en/latest/index.html)\n"
   ]
  },
  {
   "cell_type": "markdown",
   "metadata": {},
   "source": [
    "## Installing Trax\n",
    "\n",
    "Trax has dependencies on JAX and some libraries like JAX which are yet to be supported in [Windows](https://github.com/google/jax/blob/1bc5896ee4eab5d7bb4ec6f161d8b2abb30557be/README.md#installation) but work well in Ubuntu and MacOS. We would suggest that if you are working on Windows, try to install Trax on WSL2. \n",
    "\n",
    "Official maintained documentation - [trax-ml](https://trax-ml.readthedocs.io/en/latest/) not to be confused with this [TraX](https://trax.readthedocs.io/en/latest/index.html)"
   ]
  },
  {
   "cell_type": "code",
   "execution_count": 1,
   "metadata": {},
   "outputs": [],
   "source": [
    "#!pip install trax==1.3.1 Use this version for this notebook "
   ]
  },
  {
   "cell_type": "markdown",
   "metadata": {},
   "source": [
    "# Imports"
   ]
  },
  {
   "cell_type": "code",
   "execution_count": 2,
   "metadata": {},
   "outputs": [
    {
     "name": "stdout",
     "output_type": "stream",
     "text": [
      "INFO:tensorflow:tokens_length=568 inputs_length=512 targets_length=114 noise_density=0.15 mean_noise_span_length=3.0 \n"
     ]
    }
   ],
   "source": [
    "import numpy as np\n",
    "\n",
    "from trax import layers as t1 # core building block\n",
    "from trax import shapes # data signatures: dim and type\n",
    "from trax import fastmath # uses jax, offers numpy on"
   ]
  },
  {
   "cell_type": "code",
   "execution_count": 3,
   "metadata": {},
   "outputs": [
    {
     "name": "stdout",
     "output_type": "stream",
     "text": [
      "trax                     1.3.1\n",
      "\u001b[33mWARNING: You are using pip version 20.1.1; however, version 21.3 is available.\n",
      "You should consider upgrading via the '/opt/conda/bin/python -m pip install --upgrade pip' command.\u001b[0m\n"
     ]
    }
   ],
   "source": [
    "# Trax version 1.3.1 or better\n",
    "!pip list | grep trax"
   ]
  },
  {
   "cell_type": "markdown",
   "metadata": {},
   "source": [
    "## Layers\n",
    "Layers are the core building blocks in Trax or as mentioned in the lectures, they are the base classes.\n",
    "\n",
    "They take inputs, compute functions/custom calculations and return outputs.\n",
    "\n",
    "You can also inspect layer properties. Let me show you some examples.\n"
   ]
  },
  {
   "cell_type": "markdown",
   "metadata": {},
   "source": [
    "### Relu Layer\n",
    "First I'll show you how to build a relu activation function as a layer. A layer like this is one of the simplest types. Notice there is no object initialization so it works just like a math function.\n",
    "\n",
    "**Note: Activation functions are also layers in Trax, which might look odd if you have been using other frameworks for a longer time.**"
   ]
  },
  {
   "cell_type": "code",
   "execution_count": 4,
   "metadata": {},
   "outputs": [],
   "source": [
    "# layers\n",
    "# Create a relu trax layer\n",
    "\n",
    "relu = t1.Relu()"
   ]
  },
  {
   "cell_type": "code",
   "execution_count": 7,
   "metadata": {},
   "outputs": [
    {
     "name": "stdout",
     "output_type": "stream",
     "text": [
      "--Properties--\n",
      "Name:  Relu\n",
      "Expected inputs : 1\n",
      "Promised Outputs:  1 \n",
      "\n",
      "--Inputs--\n",
      "x : [-2 -1  0  1  2] \n",
      "\n",
      "-- Outputs --\n",
      "y : [0 0 0 1 2]\n"
     ]
    }
   ],
   "source": [
    "# inspect properties\n",
    "\n",
    "print('--Properties--')\n",
    "print('Name: ', relu.name)\n",
    "print('Expected inputs :', relu.n_in )\n",
    "print('Promised Outputs: ', relu.n_out, \"\\n\")\n",
    "\n",
    "#Inputs\n",
    "x = np.array([-2, -1, 0, 1, 2])\n",
    "print(\"--Inputs--\")\n",
    "print('x :', x, \"\\n\")\n",
    "\n",
    "# Outputs\n",
    "y = relu(x)\n",
    "print(\"-- Outputs --\")\n",
    "print(\"y :\", y)"
   ]
  },
  {
   "cell_type": "markdown",
   "metadata": {},
   "source": [
    "### Concatenate Layer\n",
    "Now I'll show you how to build a layer that takes 2 inputs. Notice the change in the expected inputs property from 1 to 2."
   ]
  },
  {
   "cell_type": "code",
   "execution_count": 10,
   "metadata": {},
   "outputs": [
    {
     "name": "stdout",
     "output_type": "stream",
     "text": [
      "-- Properties --\n",
      "Name:  Concatenate\n",
      "expected inputs:  2\n",
      "promised outputs : 1 \n",
      "\n",
      "-- Inputs --\n",
      "x1 :  [-10 -20 -30]\n",
      "x2 : [1. 2. 3.] \n",
      "\n",
      "-- Outputs --\n",
      "y : [-10. -20. -30.   1.   2.   3.]\n"
     ]
    }
   ],
   "source": [
    "# Create a concatenate trax layer\n",
    "\n",
    "concat = t1.Concatenate()\n",
    "print(\"-- Properties --\")\n",
    "print(\"Name: \", concat.name)\n",
    "print(\"expected inputs: \", concat.n_in )\n",
    "print(\"promised outputs :\", concat.n_out, \"\\n\")\n",
    "\n",
    "#inputs\n",
    "x1  = np.array([-10, -20, -30])\n",
    "x2 = x1 /-10\n",
    "print(\"-- Inputs --\")\n",
    "print(\"x1 : \", x1)\n",
    "print(\"x2 :\", x2, \"\\n\")\n",
    "\n",
    "# Outputs\n",
    "y = concat([x1, x2])\n",
    "print(\"-- Outputs --\")\n",
    "print(\"y :\", y)"
   ]
  },
  {
   "cell_type": "markdown",
   "metadata": {},
   "source": [
    "## Layers are Configurable\n",
    "You can change the default settings of layers. For example, you can change the expected inputs for a concatenate layer from 2 to 3 using the optional parameter `n_items`."
   ]
  },
  {
   "cell_type": "code",
   "execution_count": 13,
   "metadata": {},
   "outputs": [
    {
     "name": "stdout",
     "output_type": "stream",
     "text": [
      "-- Properties --\n",
      "name : Concatenate\n",
      "expected inputs : 3\n",
      "promised outputs : 1 \n",
      "\n",
      "-- Inputs --\n",
      "x1 : [-10 -20 -30]\n",
      "x2 : [1. 2. 3.]\n",
      "x3 : [0.98 1.96 2.94] \n",
      "\n",
      "-- outputs --\n",
      "y:  [-10.   -20.   -30.     1.     2.     3.     0.98   1.96   2.94]\n"
     ]
    }
   ],
   "source": [
    "# configure a concatenate layer\n",
    "concat_3 = t1.Concatenate(n_items=3) # configure the extectedlayer\n",
    "print(\"-- Properties --\")\n",
    "print(\"name :\", concat_3.name)\n",
    "print(\"expected inputs :\", concat_3.n_in)\n",
    "print(\"promised outputs :\", concat_3.n_out, \"\\n\")\n",
    "\n",
    "# Inputs\n",
    "x1 = np.array([-10, -20, -30])\n",
    "x2 = x1 / -10\n",
    "x3 = x2 * 0.98\n",
    "print('-- Inputs --')\n",
    "print('x1 :', x1)\n",
    "print('x2 :', x2)\n",
    "print('x3 :', x3, '\\n')\n",
    "\n",
    "# Outputs\n",
    "y = concat_3([x1, x2, x3])\n",
    "print(\"-- outputs --\")\n",
    "print(\"y: \", y)"
   ]
  },
  {
   "cell_type": "markdown",
   "metadata": {},
   "source": [
    "**Note: At any point,if you want to refer the function help/ look up the [documentation](https://trax-ml.readthedocs.io/en/latest/) or use help function.**"
   ]
  },
  {
   "cell_type": "code",
   "execution_count": 14,
   "metadata": {},
   "outputs": [],
   "source": [
    "#help(tl.Concatenate) #Uncomment this to see the function docstring with explaination"
   ]
  },
  {
   "cell_type": "markdown",
   "metadata": {},
   "source": [
    "## Layers can have Weights\n",
    "Some layer types include mutable weights and biases that are used in computation and training. Layers of this type require initialization before use.\n",
    "\n",
    "For example the `LayerNorm` layer calculates normalized data, that is also scaled by weights and biases. During initialization you pass the data shape and data type of the inputs, so the layer can initialize compatible arrays of weights and biases."
   ]
  },
  {
   "cell_type": "code",
   "execution_count": 18,
   "metadata": {},
   "outputs": [],
   "source": [
    "# help(t1.LayerNorm)\n",
    "#help(shapes.signature)"
   ]
  },
  {
   "cell_type": "code",
   "execution_count": 32,
   "metadata": {},
   "outputs": [
    {
     "name": "stdout",
     "output_type": "stream",
     "text": [
      "Normal shape: (4,) Data Type: <class 'tuple'>\n",
      "Shapes Trax: ShapeDtype{shape:(4,), dtype:float64} Data Type: <class 'trax.shapes.ShapeDtype'>\n",
      "-- Properties --\n",
      "name : LayerNorm\n",
      "expected inputs : 1\n",
      "promised outputs : 1\n",
      "\n",
      "weights : [1. 1. 1. 1.]\n",
      "biases : [0. 0. 0. 0.] \n",
      "\n",
      "\n",
      "-- Inputs --\n",
      "x : [0. 1. 2. 3.]\n",
      "\n",
      "-- Outputs--\n",
      "y : [-10.   -20.   -30.     1.     2.     3.     0.98   1.96   2.94]\n"
     ]
    }
   ],
   "source": [
    "# Layer initialization\n",
    "norm = t1.LayerNorm()\n",
    "# You first must know what the input data will look like\n",
    "\n",
    "x = np.array([0,1,2,3], dtype = \"float\")\n",
    "\n",
    "# Use the input data signature to get shape and type for initializing weights and biases\n",
    "norm.init(shapes.signature(x))\n",
    "\n",
    "print(\"Normal shape:\",x.shape, \"Data Type:\",type(x.shape))\n",
    "print(\"Shapes Trax:\",shapes.signature(x),\"Data Type:\",type(shapes.signature(x)))\n",
    "\n",
    "# Inspect properties\n",
    "print(\"-- Properties --\")\n",
    "print(\"name :\", norm.name)\n",
    "print(\"expected inputs :\", norm.n_in)\n",
    "print(\"promised outputs :\", norm.n_out)\n",
    "print()\n",
    "# Weights and biases\n",
    "print(\"weights :\", norm.weights[0])\n",
    "print(\"biases :\", norm.weights[1], \"\\n\")\n",
    "print()\n",
    "# Inputs\n",
    "print(\"-- Inputs --\")\n",
    "print(\"x :\", x)\n",
    "\n",
    "print()\n",
    "# Outputs\n",
    "x = norm(x)\n",
    "print('-- Outputs--')\n",
    "print('y :', y)"
   ]
  },
  {
   "cell_type": "markdown",
   "metadata": {},
   "source": [
    "## Custom Layers\n",
    "This is where things start getting more interesting!\n",
    "You can create your own custom layers too and define custom functions for computations by using `tl.Fn`. Let me show you how."
   ]
  },
  {
   "cell_type": "code",
   "execution_count": 33,
   "metadata": {},
   "outputs": [
    {
     "name": "stdout",
     "output_type": "stream",
     "text": [
      "Help on function Fn in module trax.layers.base:\n",
      "\n",
      "Fn(name, f, n_out=1)\n",
      "    Returns a layer with no weights that applies the function `f`.\n",
      "    \n",
      "    `f` can take and return any number of arguments, and takes only positional\n",
      "    arguments -- no default or keyword arguments. It often uses JAX-numpy (`jnp`).\n",
      "    The following, for example, would create a layer that takes two inputs and\n",
      "    returns two outputs -- element-wise sums and maxima:\n",
      "    \n",
      "        `Fn('SumAndMax', lambda x0, x1: (x0 + x1, jnp.maximum(x0, x1)), n_out=2)`\n",
      "    \n",
      "    The layer's number of inputs (`n_in`) is automatically set to number of\n",
      "    positional arguments in `f`, but you must explicitly set the number of\n",
      "    outputs (`n_out`) whenever it's not the default value 1.\n",
      "    \n",
      "    Args:\n",
      "      name: Class-like name for the resulting layer; for use in debugging.\n",
      "      f: Pure function from input tensors to output tensors, where each input\n",
      "          tensor is a separate positional arg, e.g., `f(x0, x1) --> x0 + x1`.\n",
      "          Output tensors must be packaged as specified in the `Layer` class\n",
      "          docstring.\n",
      "      n_out: Number of outputs promised by the layer; default value 1.\n",
      "    \n",
      "    Returns:\n",
      "      Layer executing the function `f`.\n",
      "\n"
     ]
    }
   ],
   "source": [
    "help(t1.Fn)"
   ]
  },
  {
   "cell_type": "code",
   "execution_count": 34,
   "metadata": {},
   "outputs": [],
   "source": [
    "# Define a custom layer\n",
    "# In this example you will create a layer to calculate the input times 2\n",
    "\n",
    "def TimesTwo():\n",
    "    layer_name = 'TimesTwo' # don't forget to give custom layer a name to identify\n",
    "    \n",
    "    # Custom function for the custom layer\n",
    "    def func(x):\n",
    "        return x * 2\n",
    "    \n",
    "    return t1.Fn(layer_name, func)"
   ]
  },
  {
   "cell_type": "code",
   "execution_count": 37,
   "metadata": {},
   "outputs": [
    {
     "name": "stdout",
     "output_type": "stream",
     "text": [
      "--Proterties-\n",
      "name:  TimesTwo\n",
      "Expected inputs : 1\n",
      "promised outputs : 1 \n",
      "\n",
      "-- Inputs--\n",
      "x :  [1 2 3] \n",
      "\n",
      "Outputs\n",
      "y :  [2 4 6]\n"
     ]
    }
   ],
   "source": [
    "# TEST IT\n",
    "times_two = TimesTwo()\n",
    "\n",
    "#Inspect properties\n",
    "print('--Proterties-')\n",
    "print('name: ', times_two.name)\n",
    "print('Expected inputs :', times_two.n_in)\n",
    "print('promised outputs :', times_two.n_out, '\\n')\n",
    "\n",
    "# Inputs\n",
    "x = np.array([1,2,3])\n",
    "print('-- Inputs--')\n",
    "print('x : ', x, '\\n')\n",
    "\n",
    "# outputs\n",
    "y = times_two(x)\n",
    "print('Outputs')\n",
    "print('y : ',y)"
   ]
  },
  {
   "cell_type": "markdown",
   "metadata": {},
   "source": [
    "# Combinators\n",
    "You can combine layers to build more complex layers. Trax provides a set of objects named combinator layers to make this happen. Combinators are themselves layers, so behavior commutes.\n",
    "\n"
   ]
  },
  {
   "cell_type": "markdown",
   "metadata": {},
   "source": [
    "### Serial Combinator\n",
    "This is the most common and easiest to use. For example could build a simple neural network by combining layers into a single layer using the `Serial` combinator. This new layer then acts just like a single layer, so you can inspect intputs, outputs and weights. Or even combine it into another layer! Combinators can then be used as trainable models. _Try adding more layers_\n",
    "\n",
    "**Note:As you must have guessed, if there is serial combinator, there must be a parallel combinator as well. Do try to explore about combinators and other layers from the trax documentation and look at the repo to understand how these layers are written.**\n"
   ]
  },
  {
   "cell_type": "code",
   "execution_count": 38,
   "metadata": {},
   "outputs": [],
   "source": [
    "#help(t1.Serial)\n",
    "# help(t1.Parallel)"
   ]
  },
  {
   "cell_type": "code",
   "execution_count": 41,
   "metadata": {},
   "outputs": [
    {
     "name": "stdout",
     "output_type": "stream",
     "text": [
      "-- Serial Model--\n",
      "Serial[\n",
      "  LayerNorm\n",
      "  Relu\n",
      "  TimesTwo\n",
      "  Dense_2\n",
      "  Dense_1\n",
      "  LogSoftmax\n",
      "] \n",
      "\n",
      "-- Properties --\n",
      "name:  Serial\n",
      "sublayers : [LayerNorm, Relu, TimesTwo, Dense_2, Dense_1, LogSoftmax]\n",
      "expected inputs : 1\n",
      "promised outputs : 1\n",
      "weights and biases: [(DeviceArray([1, 1, 1, 1, 1], dtype=int32), DeviceArray([0, 0, 0, 0, 0], dtype=int32)), (), (), (DeviceArray([[-0.498337  ,  0.05237369],\n",
      "             [-0.8691825 ,  0.5253644 ],\n",
      "             [-0.40515602, -0.9120199 ],\n",
      "             [-0.7103519 ,  0.8022522 ],\n",
      "             [ 0.81350315,  0.78434944]], dtype=float32), DeviceArray([7.5731504e-07, 1.3830768e-07], dtype=float32)), (DeviceArray([[-0.5705247],\n",
      "             [ 1.1875613]], dtype=float32), DeviceArray([-3.9843556e-08], dtype=float32)), ()] \n",
      "\n",
      "\n",
      "-- Inputs --\n",
      "x : [-2 -1  0  1  2] \n",
      "\n",
      "-- Outputs --\n",
      "y : [0.]\n"
     ]
    }
   ],
   "source": [
    "# Serial combinator\n",
    "serial = t1.Serial( t1.LayerNorm(), # normalize input\n",
    "                  t1.Relu(), #convert negative values to zero\n",
    "                  times_two,   # the custom layer created above\n",
    "                  \n",
    "                  t1.Dense(n_units=2), # try adding more layers\n",
    "                   t1.Dense(n_units =1), # Binary classification\n",
    "                   t1.LogSoftmax()      #Yes, LogSoftmax is also a layer\n",
    "                  ) \n",
    "\n",
    "# Initialization\n",
    "x = np.array([-2, -1, 0, 1, 2]) # input\n",
    "serial.init(shapes.signature(x)) # initializing serial instance\n",
    "\n",
    "print('-- Serial Model--')\n",
    "print(serial, '\\n')\n",
    "print('-- Properties --')\n",
    "print('name: ', serial.name)\n",
    "print('sublayers :', serial.sublayers)\n",
    "print('expected inputs :', serial.n_in)\n",
    "print('promised outputs :', serial.n_out)\n",
    "print('weights and biases:', serial.weights, '\\n')\n",
    "print()\n",
    "# Inputs\n",
    "print(\"-- Inputs --\")\n",
    "print(\"x :\", x, \"\\n\")\n",
    "\n",
    "# Outputs\n",
    "y = serial(x)\n",
    "print(\"-- Outputs --\")\n",
    "print(\"y :\", y)"
   ]
  },
  {
   "cell_type": "markdown",
   "metadata": {},
   "source": [
    "## JAX\n",
    "Just remember to lookout for which numpy you are using, the regular ol' numpy or Trax's JAX compatible numpy. Both tend to use the alias np so watch those import blocks.\n",
    "\n",
    "**Note:There are certain things which are still not possible in fastmath.numpy which can be done in numpy so you will see in assignments we will switch between them to get our work done.**"
   ]
  },
  {
   "cell_type": "code",
   "execution_count": 42,
   "metadata": {},
   "outputs": [
    {
     "name": "stdout",
     "output_type": "stream",
     "text": [
      "good old numpy:  <class 'numpy.ndarray'> \n",
      "\n",
      "jax trax numpy:  <class 'jax.interpreters.xla.DeviceArray'>\n"
     ]
    }
   ],
   "source": [
    "# Numpy vs fastmath.numpy have different data types\n",
    "# Regular ol numpy\n",
    "x_numpy = np.array([1,2,3])\n",
    "print('good old numpy: ', type(x_numpy), '\\n')\n",
    "\n",
    "#Fastmath and Jax numpy\n",
    "x_jax = fastmath.numpy.array([1,2,3])\n",
    "print(\"jax trax numpy: \", type(x_jax))"
   ]
  },
  {
   "cell_type": "code",
   "execution_count": 44,
   "metadata": {},
   "outputs": [
    {
     "data": {
      "text/plain": [
       "DeviceArray([1, 2, 3], dtype=int32)"
      ]
     },
     "execution_count": 44,
     "metadata": {},
     "output_type": "execute_result"
    }
   ],
   "source": [
    "x_jax"
   ]
  },
  {
   "cell_type": "code",
   "execution_count": 45,
   "metadata": {},
   "outputs": [
    {
     "data": {
      "text/plain": [
       "array([1, 2, 3])"
      ]
     },
     "execution_count": 45,
     "metadata": {},
     "output_type": "execute_result"
    }
   ],
   "source": [
    "x_numpy"
   ]
  },
  {
   "cell_type": "code",
   "execution_count": null,
   "metadata": {},
   "outputs": [],
   "source": []
  }
 ],
 "metadata": {
  "kernelspec": {
   "display_name": "Python 3 (ipykernel)",
   "language": "python",
   "name": "python3"
  },
  "language_info": {
   "codemirror_mode": {
    "name": "ipython",
    "version": 3
   },
   "file_extension": ".py",
   "mimetype": "text/x-python",
   "name": "python",
   "nbconvert_exporter": "python",
   "pygments_lexer": "ipython3",
   "version": "3.9.7"
  }
 },
 "nbformat": 4,
 "nbformat_minor": 2
}
